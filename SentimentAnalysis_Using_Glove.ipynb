{
  "nbformat": 4,
  "nbformat_minor": 0,
  "metadata": {
    "colab": {
      "name": "SentimentAnalysis_Using_Glove.ipynb",
      "version": "0.3.2",
      "provenance": [],
      "collapsed_sections": [],
      "include_colab_link": true
    },
    "kernelspec": {
      "name": "python3",
      "display_name": "Python 3"
    },
    "accelerator": "GPU"
  },
  "cells": [
    {
      "cell_type": "markdown",
      "metadata": {
        "id": "view-in-github",
        "colab_type": "text"
      },
      "source": [
        "<a href=\"https://colab.research.google.com/github/zeroxenator/rug-ltp-project/blob/master/SentimentAnalysis_Using_Glove.ipynb\" target=\"_parent\"><img src=\"https://colab.research.google.com/assets/colab-badge.svg\" alt=\"Open In Colab\"/></a>"
      ]
    },
    {
      "cell_type": "markdown",
      "metadata": {
        "id": "lxqUbCzVlloB",
        "colab_type": "text"
      },
      "source": [
        "# **Preparing Data**"
      ]
    },
    {
      "cell_type": "code",
      "metadata": {
        "id": "BWiyoDOFkzZQ",
        "colab_type": "code",
        "colab": {}
      },
      "source": [
        "import torch\n",
        "from torchtext import data\n",
        "from torchtext import datasets\n",
        "\n",
        "SEED = 1234\n",
        "\n",
        "torch.manual_seed(SEED)\n",
        "torch.backends.cudnn.deterministic = True\n",
        "\n",
        "TEXT = data.Field(tokenize = 'spacy', include_lengths = True)\n",
        "LABEL = data.LabelField(dtype = torch.float)"
      ],
      "execution_count": 0,
      "outputs": []
    },
    {
      "cell_type": "code",
      "metadata": {
        "id": "GPEKI3lTlCMi",
        "colab_type": "code",
        "colab": {}
      },
      "source": [
        "from torchtext import datasets\n",
        "\n",
        "train_data, test_data = datasets.IMDB.splits(TEXT, LABEL)"
      ],
      "execution_count": 0,
      "outputs": []
    },
    {
      "cell_type": "code",
      "metadata": {
        "id": "w6qSMaq10d1D",
        "colab_type": "code",
        "outputId": "8148d728-ee4a-4120-e109-21191d5d2cc1",
        "colab": {
          "base_uri": "https://localhost:8080/",
          "height": 50
        }
      },
      "source": [
        "print(len(train_data))\n",
        "print(len(test_data))"
      ],
      "execution_count": 3,
      "outputs": [
        {
          "output_type": "stream",
          "text": [
            "25000\n",
            "25000\n"
          ],
          "name": "stdout"
        }
      ]
    },
    {
      "cell_type": "code",
      "metadata": {
        "id": "eAbSgpKmlDej",
        "colab_type": "code",
        "outputId": "1c3333f2-7c7b-4420-9163-7a037331b62c",
        "colab": {
          "base_uri": "https://localhost:8080/",
          "height": 50
        }
      },
      "source": [
        "import random\n",
        "\n",
        "train_data, valid_data = train_data.split(random_state = random.seed(SEED))\n",
        "print(len(train_data))\n",
        "print(len(valid_data))"
      ],
      "execution_count": 4,
      "outputs": [
        {
          "output_type": "stream",
          "text": [
            "17500\n",
            "7500\n"
          ],
          "name": "stdout"
        }
      ]
    },
    {
      "cell_type": "markdown",
      "metadata": {
        "id": "VZy_8xLT0rgF",
        "colab_type": "text"
      },
      "source": [
        "### Word Embeddings"
      ]
    },
    {
      "cell_type": "code",
      "metadata": {
        "id": "1L-KqL4IlGUI",
        "colab_type": "code",
        "colab": {}
      },
      "source": [
        "MAX_VOCAB_SIZE = 25_000\n",
        "\n",
        "TEXT.build_vocab(train_data, \n",
        "                 max_size = MAX_VOCAB_SIZE, \n",
        "                 vectors = \"glove.6B.100d\", \n",
        "                 unk_init = torch.Tensor.normal_)\n",
        "\n",
        "LABEL.build_vocab(train_data)"
      ],
      "execution_count": 0,
      "outputs": []
    },
    {
      "cell_type": "code",
      "metadata": {
        "id": "vnc3pXlFfpMi",
        "colab_type": "code",
        "outputId": "e987257e-071e-4364-e04f-7e9ad0526d48",
        "colab": {
          "base_uri": "https://localhost:8080/",
          "height": 138
        }
      },
      "source": [
        "print(len(train_data))\n",
        "print(len(valid_data))\n",
        "print(len(test_data))\n",
        "print(train_data[0].text)\n",
        "print(train_data[0].label)\n",
        "print(train_data[0])"
      ],
      "execution_count": 6,
      "outputs": [
        {
          "output_type": "stream",
          "text": [
            "17500\n",
            "7500\n",
            "25000\n",
            "['This', 'show', 'is', 'terrible', ',', 'the', 'jokes', 'are', 'all', 'terrible', 'and', 'just', 'getting', 'worse', 'and', 'worse', '.', 'I', 'am', 'one', 'of', 'those', 'people', 'who', 'was', 'never', 'a', 'big', 'fan', 'of', 'Corner', 'Gas', 'but', 'at', 'least', 'I', 'liked', 'it', 'at', 'first', 'until', 'it', 'got', 'into', 'a', 'rut', 'around', 'season', 'two', ',', 'all', 'the', 'jokes', 'had', 'been', 'played', 'out', 'and', 'the', 'characters', 'had', 'nothing', 'to', 'them', '.', 'Well', 'at', 'least', 'Corner', 'Gas', 'was', 'good', 'at', 'first', ',', 'Little', 'Mosque', 'on', 'the', 'Prairie', 'is', 'typically', 'awful', 'bland', 'CBC', 'comedy', 'that', 'had', 'nothing', 'going', 'for', 'it', 'from', 'episode', '1', '.', 'Who', 'are', 'the', 'people', 'who', 'are', 'watching', 'this', 'show', 'anyway', ',', 'I', 'am', 'being', 'honest', 'is', 'it', 'old', 'people', 'or', 'maybe', 'just', 'people', 'who', 'actually', 'live', 'on', 'the', 'prairies', '?', 'Maybe', 'the', 'jokes', 'are', 'for', 'them', 'and', 'they', 'work', 'there', '?', 'I', 'do', \"n't\", 'know', 'a', 'single', 'person', 'who', 'likes', 'this', 'show', 'and', 'ca', \"n't\", 'stand', 'it', 'myself', ',', 'the', 'jokes', 'are', 'totally', 'predictable', 'and', 'the', 'characters', 'are', 'even', 'less', 'developed', 'than', 'in', 'Corner', 'Gas', '.', 'Hopefully', 'it', 'wo', \"n't\", 'last', 'much', 'longer', 'because', 'all', 'the', 'success', 'this', 'show', 'has', 'had', 'seems', 'to', 'me', 'to', 'be', 'based', 'entirely', 'on', 'the', 'premise', 'of', 'this', 'show', 'being', 'Muslim', 'which', 'is', 'different', 'and', 'could', '/', 'should', 'have', 'led', 'to', 'a', 'great', 'show', '.']\n",
            "neg\n",
            "<torchtext.data.example.Example object at 0x7f73a5a3b0f0>\n"
          ],
          "name": "stdout"
        }
      ]
    },
    {
      "cell_type": "code",
      "metadata": {
        "id": "EhCNWk3qle-4",
        "colab_type": "code",
        "colab": {}
      },
      "source": [
        "BATCH_SIZE = 64\n",
        "\n",
        "device = torch.device('cuda' if torch.cuda.is_available() else 'cpu')\n",
        "\n",
        "train_iterator, valid_iterator, test_iterator = data.BucketIterator.splits(\n",
        "    (train_data, valid_data, test_data), \n",
        "    batch_size = BATCH_SIZE,\n",
        "    sort_within_batch = True,\n",
        "    device = device)"
      ],
      "execution_count": 0,
      "outputs": []
    },
    {
      "cell_type": "code",
      "metadata": {
        "id": "zzeu-TPUfd_d",
        "colab_type": "code",
        "outputId": "aca9c025-4099-48b2-f6e8-577f7fe6645e",
        "colab": {
          "base_uri": "https://localhost:8080/",
          "height": 245
        }
      },
      "source": [
        "print(len(train_iterator))\n",
        "print(len(valid_iterator))\n",
        "print(len(test_iterator))\n",
        "\n",
        "for batch in train_iterator:\n",
        "  \n",
        "  print('------TEXT------')\n",
        "  print(len(batch))\n",
        "  print(len(batch.text)) #--> 2: [0] is text, [1] is textlength\n",
        "  \n",
        "  print(len(batch.text[0][0]))\n",
        "  \n",
        "  print('------LABELS------')\n",
        "  print(batch.label)\n",
        "  print(batch.label.shape)\n",
        "  break\n"
      ],
      "execution_count": 0,
      "outputs": [
        {
          "output_type": "stream",
          "text": [
            "274\n",
            "118\n",
            "391\n",
            "------TEXT------\n",
            "64\n",
            "2\n",
            "64\n",
            "------LABELS------\n",
            "tensor([0., 1., 1., 0., 1., 1., 1., 1., 1., 1., 1., 1., 1., 1., 1., 0., 1., 0.,\n",
            "        0., 0., 1., 0., 1., 1., 0., 0., 1., 1., 1., 1., 1., 1., 1., 0., 0., 0.,\n",
            "        1., 0., 0., 1., 1., 1., 0., 0., 0., 0., 0., 1., 1., 1., 0., 1., 1., 0.,\n",
            "        0., 0., 1., 0., 1., 1., 1., 1., 0., 1.], device='cuda:0')\n",
            "torch.Size([64])\n"
          ],
          "name": "stdout"
        }
      ]
    },
    {
      "cell_type": "markdown",
      "metadata": {
        "id": "eBPSpo4rl7io",
        "colab_type": "text"
      },
      "source": [
        "# Build the Model"
      ]
    },
    {
      "cell_type": "code",
      "metadata": {
        "id": "uL7Dl4xsl_5R",
        "colab_type": "code",
        "colab": {}
      },
      "source": [
        "import torch.nn as nn\n",
        "\n",
        "class RNN(nn.Module):\n",
        "    def __init__(self, vocab_size, embedding_dim, hidden_dim, output_dim, n_layers, \n",
        "                 bidirectional, dropout, pad_idx):\n",
        "        \n",
        "        super().__init__()\n",
        "        \n",
        "        self.embedding = nn.Embedding(vocab_size, embedding_dim, padding_idx = pad_idx)\n",
        "        \n",
        "        self.rnn = nn.LSTM(embedding_dim, \n",
        "                           hidden_dim, \n",
        "                           num_layers=n_layers, \n",
        "                           bidirectional=bidirectional, \n",
        "                           dropout=dropout)\n",
        "        \n",
        "        self.fc = nn.Linear(hidden_dim * 2, output_dim)\n",
        "        \n",
        "        self.dropout = nn.Dropout(dropout)\n",
        "        \n",
        "    def forward(self, text, text_lengths):\n",
        "        \n",
        "        #text = [sent len, batch size]\n",
        "        \n",
        "        embedded = self.dropout(self.embedding(text))\n",
        "        \n",
        "        #embedded = [sent len, batch size, emb dim]\n",
        "        \n",
        "        #pack sequence\n",
        "        packed_embedded = nn.utils.rnn.pack_padded_sequence(embedded, text_lengths)\n",
        "        \n",
        "        packed_output, (hidden, cell) = self.rnn(packed_embedded)\n",
        "        \n",
        "        #unpack sequence\n",
        "        output, output_lengths = nn.utils.rnn.pad_packed_sequence(packed_output)\n",
        "\n",
        "        #output = [sent len, batch size, hid dim * num directions]\n",
        "        #output over padding tokens are zero tensors\n",
        "        \n",
        "        #hidden = [num layers * num directions, batch size, hid dim]\n",
        "        #cell = [num layers * num directions, batch size, hid dim]\n",
        "        \n",
        "        #concat the final forward (hidden[-2,:,:]) and backward (hidden[-1,:,:]) hidden layers\n",
        "        #and apply dropout\n",
        "        \n",
        "        hidden = self.dropout(torch.cat((hidden[-2,:,:], hidden[-1,:,:]), dim = 1))\n",
        "                \n",
        "        #hidden = [batch size, hid dim * num directions]\n",
        "            \n",
        "        return self.fc(hidden.squeeze(0))"
      ],
      "execution_count": 0,
      "outputs": []
    },
    {
      "cell_type": "code",
      "metadata": {
        "id": "GCKP1slGmIAU",
        "colab_type": "code",
        "outputId": "74ea4642-a025-4bb2-d14a-c99ea6bd1205",
        "colab": {
          "base_uri": "https://localhost:8080/",
          "height": 50
        }
      },
      "source": [
        "INPUT_DIM = len(TEXT.vocab)\n",
        "EMBEDDING_DIM = 100\n",
        "HIDDEN_DIM = 256\n",
        "OUTPUT_DIM = 1\n",
        "N_LAYERS = 2\n",
        "BIDIRECTIONAL = True\n",
        "DROPOUT = 0.5\n",
        "PAD_IDX = TEXT.vocab.stoi[TEXT.pad_token]\n",
        "\n",
        "print(\"INPUT_DIM:\", INPUT_DIM)\n",
        "print(\"PAD_IDX:\", PAD_IDX)"
      ],
      "execution_count": 9,
      "outputs": [
        {
          "output_type": "stream",
          "text": [
            "INPUT_DIM: 25002\n",
            "PAD_IDX: 1\n"
          ],
          "name": "stdout"
        }
      ]
    },
    {
      "cell_type": "code",
      "metadata": {
        "id": "QcleiLXZgB_t",
        "colab_type": "code",
        "colab": {}
      },
      "source": [
        "model = RNN(INPUT_DIM, \n",
        "            EMBEDDING_DIM, \n",
        "            HIDDEN_DIM, \n",
        "            OUTPUT_DIM, \n",
        "            N_LAYERS, \n",
        "            BIDIRECTIONAL, \n",
        "            DROPOUT, \n",
        "            PAD_IDX)"
      ],
      "execution_count": 0,
      "outputs": []
    },
    {
      "cell_type": "code",
      "metadata": {
        "id": "2Gx-YfjAmLn_",
        "colab_type": "code",
        "outputId": "8ed177c8-d20b-4c5f-8e9e-652e4a8ee290",
        "colab": {
          "base_uri": "https://localhost:8080/",
          "height": 34
        }
      },
      "source": [
        "def count_parameters(model):\n",
        "    return sum(p.numel() for p in model.parameters() if p.requires_grad)\n",
        "\n",
        "print(f'The model has {count_parameters(model):,} trainable parameters')"
      ],
      "execution_count": 11,
      "outputs": [
        {
          "output_type": "stream",
          "text": [
            "The model has 4,810,857 trainable parameters\n"
          ],
          "name": "stdout"
        }
      ]
    },
    {
      "cell_type": "markdown",
      "metadata": {
        "id": "Ja6n1iMfgxOq",
        "colab_type": "text"
      },
      "source": [
        "The final addition is copying the pre-trained word embeddings we loaded earlier into the embedding layer of our model.\n",
        "\n",
        "We retrieve the embeddings from the field's vocab, and check they're the correct size, **[vocab size, embedding dim**]"
      ]
    },
    {
      "cell_type": "code",
      "metadata": {
        "id": "pyo3R2T9mM4s",
        "colab_type": "code",
        "outputId": "62b9868a-efef-482f-cdf8-10274f904cbf",
        "colab": {
          "base_uri": "https://localhost:8080/",
          "height": 34
        }
      },
      "source": [
        "pretrained_embeddings = TEXT.vocab.vectors\n",
        "\n",
        "print(pretrained_embeddings.shape)"
      ],
      "execution_count": 12,
      "outputs": [
        {
          "output_type": "stream",
          "text": [
            "torch.Size([25002, 100])\n"
          ],
          "name": "stdout"
        }
      ]
    },
    {
      "cell_type": "markdown",
      "metadata": {
        "id": "xC5iIgsvg_Qx",
        "colab_type": "text"
      },
      "source": [
        "We then replace the initial weights of the embedding layer with the pre-trained embeddings."
      ]
    },
    {
      "cell_type": "code",
      "metadata": {
        "id": "QZSMYnG2mN-8",
        "colab_type": "code",
        "outputId": "9d6cb4ab-3cf8-4f12-a507-ac9c11b24b1f",
        "colab": {
          "base_uri": "https://localhost:8080/",
          "height": 134
        }
      },
      "source": [
        "model.embedding.weight.data.copy_(pretrained_embeddings)"
      ],
      "execution_count": 13,
      "outputs": [
        {
          "output_type": "execute_result",
          "data": {
            "text/plain": [
              "tensor([[-0.1117, -0.4966,  0.1631,  ...,  1.2647, -0.2753, -0.1325],\n",
              "        [-0.8555, -0.7208,  1.3755,  ...,  0.0825, -1.1314,  0.3997],\n",
              "        [-0.0382, -0.2449,  0.7281,  ..., -0.1459,  0.8278,  0.2706],\n",
              "        ...,\n",
              "        [-0.4193,  0.6715, -0.5205,  ..., -0.7538, -0.0051,  0.6917],\n",
              "        [ 0.3391, -0.0290,  0.4831,  ..., -0.6991, -0.2370,  0.2094],\n",
              "        [ 0.0944, -0.1442, -0.1443,  ..., -0.4783, -0.6824,  0.1593]])"
            ]
          },
          "metadata": {
            "tags": []
          },
          "execution_count": 13
        }
      ]
    },
    {
      "cell_type": "markdown",
      "metadata": {
        "id": "R6QVgXhKhOik",
        "colab_type": "text"
      },
      "source": [
        "As our \\<unk> and \\<pad> token aren't in the pre-trained vocabulary they have been initialized using `unk_init` (an $\\mathcal{N}(0,1)$ distribution) when building our vocab. It is preferable to initialize them both to all zeros to explicitly tell our model that, initially, they are irrelevant for determining sentiment.\n",
        "\n",
        "We do this by manually setting their row in the embedding weights matrix to zeros. We get their row by finding the index of the tokens, which we have already done for the padding index."
      ]
    },
    {
      "cell_type": "code",
      "metadata": {
        "id": "1i_5r1uKmPKe",
        "colab_type": "code",
        "outputId": "133b8c82-6f95-43a3-8fca-0e6cb648213b",
        "colab": {
          "base_uri": "https://localhost:8080/",
          "height": 134
        }
      },
      "source": [
        "\n",
        "UNK_IDX = TEXT.vocab.stoi[TEXT.unk_token]\n",
        "\n",
        "model.embedding.weight.data[UNK_IDX] = torch.zeros(EMBEDDING_DIM)\n",
        "model.embedding.weight.data[PAD_IDX] = torch.zeros(EMBEDDING_DIM)\n",
        "\n",
        "print(model.embedding.weight.data)"
      ],
      "execution_count": 14,
      "outputs": [
        {
          "output_type": "stream",
          "text": [
            "tensor([[ 0.0000,  0.0000,  0.0000,  ...,  0.0000,  0.0000,  0.0000],\n",
            "        [ 0.0000,  0.0000,  0.0000,  ...,  0.0000,  0.0000,  0.0000],\n",
            "        [-0.0382, -0.2449,  0.7281,  ..., -0.1459,  0.8278,  0.2706],\n",
            "        ...,\n",
            "        [-0.4193,  0.6715, -0.5205,  ..., -0.7538, -0.0051,  0.6917],\n",
            "        [ 0.3391, -0.0290,  0.4831,  ..., -0.6991, -0.2370,  0.2094],\n",
            "        [ 0.0944, -0.1442, -0.1443,  ..., -0.4783, -0.6824,  0.1593]])\n"
          ],
          "name": "stdout"
        }
      ]
    },
    {
      "cell_type": "markdown",
      "metadata": {
        "id": "kbXJVAK-mQCw",
        "colab_type": "text"
      },
      "source": [
        "# Train the Model"
      ]
    },
    {
      "cell_type": "code",
      "metadata": {
        "id": "EE4bb7JPmTAW",
        "colab_type": "code",
        "colab": {}
      },
      "source": [
        "import torch.optim as optim\n",
        "\n",
        "optimizer = optim.Adam(model.parameters())\n",
        "criterion = nn.BCEWithLogitsLoss()\n",
        "\n",
        "model = model.to(device)\n",
        "criterion = criterion.to(device)"
      ],
      "execution_count": 0,
      "outputs": []
    },
    {
      "cell_type": "code",
      "metadata": {
        "id": "qVF8E5cMmWUe",
        "colab_type": "code",
        "colab": {}
      },
      "source": [
        "\n",
        "def binary_accuracy(preds, y):\n",
        "    \"\"\"\n",
        "    Returns accuracy per batch, i.e. if you get 8/10 right, this returns 0.8, NOT 8\n",
        "    \"\"\"\n",
        "\n",
        "    #round predictions to the closest integer\n",
        "    rounded_preds = torch.round(torch.sigmoid(preds))\n",
        "    correct = (rounded_preds == y).float() #convert into float for division \n",
        "    acc = correct.sum() / len(correct)\n",
        "    return acc"
      ],
      "execution_count": 0,
      "outputs": []
    },
    {
      "cell_type": "code",
      "metadata": {
        "id": "O5PzTPsMCpOO",
        "colab_type": "code",
        "colab": {}
      },
      "source": [
        "from sklearn.metrics import f1_score\n",
        "\n",
        "def f1_score_custom(preds, labels):\n",
        "  \n",
        "    y_pred = torch.round(torch.sigmoid(preds))\n",
        "        \n",
        "    f1 = f1_score(y_pred.cpu().detach().numpy(), labels.cpu().detach().numpy())\n",
        "    \n",
        "    return f1"
      ],
      "execution_count": 0,
      "outputs": []
    },
    {
      "cell_type": "code",
      "metadata": {
        "id": "p31thkObU1Al",
        "colab_type": "code",
        "colab": {}
      },
      "source": [
        "import matplotlib.pyplot as plt\n",
        "import numpy as np\n",
        "from sklearn.metrics import confusion_matrix\n",
        "from sklearn.utils.multiclass import unique_labels\n",
        "\n",
        "def confusion_matrix_custom(preds, labels, normalize=False):\n",
        "    y_pred = torch.round(torch.sigmoid(preds))\n",
        "    \n",
        "    # Compute confusion matrix\n",
        "    cm = confusion_matrix(labels.cpu().detach().numpy(), y_pred.cpu().detach().numpy())\n",
        "    \n",
        "    if normalize:\n",
        "        cm = cm.astype('float') / cm.sum(axis=1)[:, np.newaxis]\n",
        "    \n",
        "    return cm\n"
      ],
      "execution_count": 0,
      "outputs": []
    },
    {
      "cell_type": "code",
      "metadata": {
        "id": "dHixapvbCmjN",
        "colab_type": "code",
        "colab": {}
      },
      "source": [
        "def plot_confusion_matrix(cm,\n",
        "                          normalize=False, \n",
        "                          save=False,\n",
        "                          filename='cm.png',\n",
        "                          cmap=plt.cm.Blues):\n",
        "  \n",
        "    title = ''\n",
        "    classes = ['neg', 'pos']\n",
        "    \n",
        "    \"\"\"\n",
        "    This function prints and plots the confusion matrix.\n",
        "    Normalization can be applied by setting `normalize=True`.\n",
        "    \"\"\"\n",
        "    if normalize:\n",
        "        title = 'Normalized confusion matrix'\n",
        "    else:\n",
        "        title = 'Confusion matrix, without normalization'\n",
        "    \n",
        "    if normalize:\n",
        "        cm = cm.astype('float') / cm.sum(axis=1)[:, np.newaxis]\n",
        "    \n",
        "    fig, ax = plt.subplots(figsize=(5, 5))\n",
        "    im = ax.imshow(cm, interpolation='nearest', cmap=cmap)\n",
        "    \n",
        "    ax.figure.colorbar(im, ax=ax)\n",
        "    \n",
        "    # We want to show all ticks...\n",
        "    ax.set(xticks=np.arange(cm.shape[1]),\n",
        "           yticks=np.arange(cm.shape[0]),\n",
        "           # ... and label them with the respective list entries\n",
        "           xticklabels=classes, yticklabels=classes,\n",
        "           title=title,\n",
        "           ylabel='True label',\n",
        "           xlabel='Predicted label')\n",
        "\n",
        "    # Rotate the tick labels and set their alignment.\n",
        "    plt.setp(ax.get_xticklabels(), rotation=45, ha=\"right\",\n",
        "             rotation_mode=\"anchor\")\n",
        "\n",
        "    # Loop over data dimensions and create text annotations.\n",
        "    fmt = '.2f' #if normalize else 'd'\n",
        "    \n",
        "    thresh = cm.max() / 2.\n",
        "    \n",
        "    for i in range(cm.shape[0]):\n",
        "        for j in range(cm.shape[1]):\n",
        "            ax.text(j, i, format(cm[i, j], fmt),\n",
        "                    ha=\"center\", va=\"center\",\n",
        "                    color=\"white\" if cm[i, j] > thresh else \"black\")\n",
        "    fig.tight_layout()\n",
        "    \n",
        "    if save:\n",
        "      plt.savefig(filename)\n",
        "    \n",
        "    plt.show()\n",
        "\n",
        "    return ax"
      ],
      "execution_count": 0,
      "outputs": []
    },
    {
      "cell_type": "code",
      "metadata": {
        "id": "C4Psx02aU5v-",
        "colab_type": "code",
        "colab": {}
      },
      "source": [
        "import matplotlib.pyplot as plt\n",
        "\n",
        "def loss_graph(phase, epochs, loss_hist, save=False, filename='loss_graph.png'):\n",
        "  \n",
        "    plt.figure(figsize=(10,5))\n",
        "  \n",
        "    plt.title(\"{0} Loss vs. Number of Training Epochs\".format(phase))\n",
        "    plt.xlabel(\"Training Epochs\")\n",
        "    plt.ylabel(\"{0} Loss\".format(phase))\n",
        "    \n",
        "    x = range(1, epochs+1)\n",
        "    y = loss_hist\n",
        "    \n",
        "    plt.plot(x, y, marker=5)\n",
        "\n",
        "    plt.ylim((0, 1.))\n",
        "    plt.xticks(np.arange(1, epochs+1, 1.0))\n",
        "    \n",
        "    plt.grid(True)\n",
        "    \n",
        "    if save:\n",
        "      plt.savefig(filename)\n",
        "    \n",
        "    plt.show() "
      ],
      "execution_count": 0,
      "outputs": []
    },
    {
      "cell_type": "code",
      "metadata": {
        "id": "x_OieIT8mXfo",
        "colab_type": "code",
        "colab": {}
      },
      "source": [
        "def train(model, iterator, optimizer, criterion):\n",
        "    \n",
        "    epoch_loss = 0\n",
        "    epoch_acc = 0\n",
        "    epoch_f1 = 0\n",
        "    epoch_cm = np.zeros((2,2))\n",
        "    \n",
        "    model.train()\n",
        "    \n",
        "    for batch in iterator:\n",
        "        \n",
        "        optimizer.zero_grad()\n",
        "        \n",
        "        text, text_lengths = batch.text\n",
        "        \n",
        "        predictions = model(text, text_lengths).squeeze(1)\n",
        "        \n",
        "        loss = criterion(predictions, batch.label)\n",
        "        \n",
        "        acc = binary_accuracy(predictions, batch.label)\n",
        "        \n",
        "        f1 = f1_score_custom(predictions, batch.label)\n",
        "        \n",
        "        cm = confusion_matrix_custom(predictions, batch.label, normalize=False)\n",
        "        \n",
        "        loss.backward()\n",
        "        \n",
        "        optimizer.step()\n",
        "        \n",
        "        epoch_loss += loss.item()\n",
        "        epoch_acc += acc.item()\n",
        "        epoch_f1 += f1\n",
        "        epoch_cm = np.add(epoch_cm, cm)\n",
        "        \n",
        "    return epoch_loss / len(iterator), epoch_acc / len(iterator), epoch_f1 / len(iterator), epoch_cm"
      ],
      "execution_count": 0,
      "outputs": []
    },
    {
      "cell_type": "code",
      "metadata": {
        "id": "hOSLjrXdmY97",
        "colab_type": "code",
        "colab": {}
      },
      "source": [
        "def evaluate(model, iterator, criterion):\n",
        "    \n",
        "    epoch_loss = 0\n",
        "    epoch_acc = 0\n",
        "    epoch_f1 = 0\n",
        "    epoch_cm = np.zeros((2,2))\n",
        "    \n",
        "    model.eval()\n",
        "    \n",
        "    with torch.no_grad():\n",
        "    \n",
        "        for batch in iterator:\n",
        "\n",
        "            text, text_lengths = batch.text\n",
        "            \n",
        "            predictions = model(text, text_lengths).squeeze(1)\n",
        "            \n",
        "            loss = criterion(predictions, batch.label)\n",
        "            \n",
        "            acc = binary_accuracy(predictions, batch.label)\n",
        "            \n",
        "            f1 = f1_score_custom(predictions, batch.label)\n",
        "            \n",
        "            cm = confusion_matrix_custom(predictions, batch.label, normalize=False)\n",
        "\n",
        "            epoch_loss += loss.item()\n",
        "            epoch_acc += acc.item()\n",
        "            epoch_f1 += f1\n",
        "            epoch_cm = np.add(epoch_cm, cm)\n",
        "        \n",
        "    return epoch_loss / len(iterator), epoch_acc / len(iterator), epoch_f1 / len(iterator), epoch_cm"
      ],
      "execution_count": 0,
      "outputs": []
    },
    {
      "cell_type": "code",
      "metadata": {
        "id": "LjIsRHdnmb1z",
        "colab_type": "code",
        "colab": {}
      },
      "source": [
        "import time\n",
        "\n",
        "def epoch_time(start_time, end_time):\n",
        "    elapsed_time = end_time - start_time\n",
        "    elapsed_mins = int(elapsed_time / 60)\n",
        "    elapsed_secs = int(elapsed_time - (elapsed_mins * 60))\n",
        "    return elapsed_mins, elapsed_secs"
      ],
      "execution_count": 0,
      "outputs": []
    },
    {
      "cell_type": "code",
      "metadata": {
        "id": "pSTaojjXmee-",
        "colab_type": "code",
        "outputId": "373aecea-525d-4565-a6f3-e1f9861c55c6",
        "colab": {
          "base_uri": "https://localhost:8080/",
          "height": 269
        }
      },
      "source": [
        "N_EPOCHS = 5\n",
        "\n",
        "best_valid_loss = float('inf')\n",
        "\n",
        "train_loss_hist = []\n",
        "valid_loss_hist = []\n",
        "\n",
        "train_cm = []\n",
        "valid_cm = []\n",
        "\n",
        "for epoch in range(N_EPOCHS):\n",
        "  \n",
        "    start_time = time.time()\n",
        "    \n",
        "    train_loss, train_acc, train_f1, train_cm = train(model, train_iterator, optimizer, criterion)\n",
        "    valid_loss, valid_acc, valid_f1, valid_cm = evaluate(model, valid_iterator, criterion)\n",
        "    \n",
        "    train_loss_hist.append(train_loss)\n",
        "    valid_loss_hist.append(valid_loss)\n",
        "    \n",
        "    end_time = time.time()\n",
        "\n",
        "    epoch_mins, epoch_secs = epoch_time(start_time, end_time)\n",
        "    \n",
        "    if valid_loss < best_valid_loss:\n",
        "        best_valid_loss = valid_loss\n",
        "        torch.save(model.state_dict(), 'tut1-model.pt')\n",
        "    \n",
        "    print(f'Epoch: {epoch+1:02} | Epoch Time: {epoch_mins}m {epoch_secs}s')\n",
        "    print(f'\\tTrain Loss: {train_loss:.3f} | Train Acc: {train_acc*100:.2f}  |  Train F1: {train_f1*100:.2f} %')\n",
        "    print(f'\\t Val. Loss: {valid_loss:.3f} |  Val. Acc: {valid_acc*100:.2f}  | . Val. F1: {valid_f1*100:.2f} %')"
      ],
      "execution_count": 24,
      "outputs": [
        {
          "output_type": "stream",
          "text": [
            "Epoch: 01 | Epoch Time: 0m 43s\n",
            "\tTrain Loss: 0.676 | Train Acc: 58.55  |  Train F1: 54.43 %\n",
            "\t Val. Loss: 0.684 |  Val. Acc: 53.01  | . Val. F1: 23.00 %\n",
            "Epoch: 02 | Epoch Time: 0m 44s\n",
            "\tTrain Loss: 0.683 | Train Acc: 56.31  |  Train F1: 50.49 %\n",
            "\t Val. Loss: 0.672 |  Val. Acc: 61.95  | . Val. F1: 66.64 %\n",
            "Epoch: 03 | Epoch Time: 0m 44s\n",
            "\tTrain Loss: 0.646 | Train Acc: 62.80  |  Train F1: 60.41 %\n",
            "\t Val. Loss: 0.607 |  Val. Acc: 64.60  | . Val. F1: 68.39 %\n",
            "Epoch: 04 | Epoch Time: 0m 44s\n",
            "\tTrain Loss: 0.655 | Train Acc: 62.33  |  Train F1: 58.77 %\n",
            "\t Val. Loss: 0.650 |  Val. Acc: 60.05  | . Val. F1: 43.96 %\n",
            "Epoch: 05 | Epoch Time: 0m 44s\n",
            "\tTrain Loss: 0.610 | Train Acc: 66.84  |  Train F1: 63.59 %\n",
            "\t Val. Loss: 0.538 |  Val. Acc: 73.71  | . Val. F1: 71.95 %\n"
          ],
          "name": "stdout"
        }
      ]
    },
    {
      "cell_type": "markdown",
      "metadata": {
        "id": "NnnkQUUjVjUH",
        "colab_type": "text"
      },
      "source": [
        "## Metrics"
      ]
    },
    {
      "cell_type": "markdown",
      "metadata": {
        "id": "yZSrz8m9VmCp",
        "colab_type": "text"
      },
      "source": [
        "Graph the Loss vs Epochs"
      ]
    },
    {
      "cell_type": "code",
      "metadata": {
        "id": "Mx3lsRT3ViEy",
        "colab_type": "code",
        "outputId": "866661d6-668c-44be-b188-3eb4db0215b6",
        "colab": {
          "base_uri": "https://localhost:8080/",
          "height": 682
        }
      },
      "source": [
        "# Training vs Epoch\n",
        "loss_graph('Training', N_EPOCHS, train_loss_hist, True, 'glove_training_loss.png')\n",
        "\n",
        "#Validation vs Epoch\n",
        "loss_graph('Validation', N_EPOCHS, valid_loss_hist, True, 'glove_validation_loss.png')\n"
      ],
      "execution_count": 25,
      "outputs": [
        {
          "output_type": "display_data",
          "data": {
            "image/png": "[encoded data removed]",
            "text/plain": [
              "<Figure size 720x360 with 1 Axes>"
            ]
          },
          "metadata": {
            "tags": []
          }
        },
        {
          "output_type": "display_data",
          "data": {
            "image/png": "[encoded data removed]",
            "text/plain": [
              "<Figure size 720x360 with 1 Axes>"
            ]
          },
          "metadata": {
            "tags": []
          }
        }
      ]
    },
    {
      "cell_type": "markdown",
      "metadata": {
        "id": "viRzT_mvVqzd",
        "colab_type": "text"
      },
      "source": [
        "Plot the Confusion Matrix"
      ]
    },
    {
      "cell_type": "code",
      "metadata": {
        "id": "SzMI_dqOVtrU",
        "colab_type": "code",
        "outputId": "262631ed-e4c6-41b2-b122-f073264c206b",
        "colab": {
          "base_uri": "https://localhost:8080/",
          "height": 712
        }
      },
      "source": [
        "np.set_printoptions(precision=2)\n",
        "\n",
        "# Plot confusion matrix for Training\n",
        "plot_confusion_matrix(train_cm, normalize=True, save=True, filename='glove_training_cm.png')\n",
        "\n",
        "# Plot confusion matrix for Validation\n",
        "plot_confusion_matrix(valid_cm, normalize=True, save=True, filename='glove_validation_cm.png')\n"
      ],
      "execution_count": 26,
      "outputs": [
        {
          "output_type": "display_data",
          "data": {
            "image/png": "[encoded data removed]",
            "text/plain": [
              "<Figure size 360x360 with 2 Axes>"
            ]
          },
          "metadata": {
            "tags": []
          }
        },
        {
          "output_type": "display_data",
          "data": {
            "image/png": "[encoded data removed]",
            "text/plain": [
              "<Figure size 360x360 with 2 Axes>"
            ]
          },
          "metadata": {
            "tags": []
          }
        },
        {
          "output_type": "execute_result",
          "data": {
            "text/plain": [
              "<matplotlib.axes._subplots.AxesSubplot at 0x7f7333f93ac8>"
            ]
          },
          "metadata": {
            "tags": []
          },
          "execution_count": 26
        }
      ]
    },
    {
      "cell_type": "markdown",
      "metadata": {
        "id": "otvzytqdVvDs",
        "colab_type": "text"
      },
      "source": [
        "## Test"
      ]
    },
    {
      "cell_type": "code",
      "metadata": {
        "id": "iVC7mUClmf3s",
        "colab_type": "code",
        "outputId": "24d9f4a5-3cc0-4eaf-a08c-b11977d25c40",
        "colab": {
          "base_uri": "https://localhost:8080/",
          "height": 87
        }
      },
      "source": [
        "model.load_state_dict(torch.load('tut1-model.pt'))\n",
        "\n",
        "test_loss, test_acc, test_f1, test_cm = evaluate(model, test_iterator, criterion)\n",
        "\n",
        "print(f'Test Loss: {test_loss:.3f} | Test Acc: {test_acc*100:.2f}  | . Test. F1: {valid_f1*100:.2f} %')"
      ],
      "execution_count": 27,
      "outputs": [
        {
          "output_type": "stream",
          "text": [
            "/usr/local/lib/python3.6/dist-packages/sklearn/metrics/classification.py:1437: UndefinedMetricWarning: F-score is ill-defined and being set to 0.0 due to no predicted samples.\n",
            "  'precision', 'predicted', average, warn_for)\n"
          ],
          "name": "stderr"
        },
        {
          "output_type": "stream",
          "text": [
            "Test Loss: 0.542 | Test Acc: 73.36  | . Test. F1: 71.95 %\n"
          ],
          "name": "stdout"
        }
      ]
    },
    {
      "cell_type": "code",
      "metadata": {
        "id": "S88OF6nbaaYd",
        "colab_type": "code",
        "outputId": "445dc441-71ab-4fcc-a7e9-1ef0f02c039f",
        "colab": {
          "base_uri": "https://localhost:8080/",
          "height": 373
        }
      },
      "source": [
        "# Plot non-normalized confusion matrix for Training\n",
        "plot_confusion_matrix(test_cm, normalize=True, save=True, filename='glove_test_cm.png')"
      ],
      "execution_count": 28,
      "outputs": [
        {
          "output_type": "display_data",
          "data": {
            "image/png": "[encoded data removed]",
            "text/plain": [
              "<Figure size 360x360 with 2 Axes>"
            ]
          },
          "metadata": {
            "tags": []
          }
        },
        {
          "output_type": "execute_result",
          "data": {
            "text/plain": [
              "<matplotlib.axes._subplots.AxesSubplot at 0x7f73325e98d0>"
            ]
          },
          "metadata": {
            "tags": []
          },
          "execution_count": 28
        }
      ]
    },
    {
      "cell_type": "code",
      "metadata": {
        "id": "Iwjuy8H_dFlp",
        "colab_type": "code",
        "colab": {}
      },
      "source": [
        ""
      ],
      "execution_count": 0,
      "outputs": []
    }
  ]
}